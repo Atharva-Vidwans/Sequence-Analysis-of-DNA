{
 "cells": [
  {
   "cell_type": "markdown",
   "metadata": {},
   "source": [
    "# Sequence Analysis of COVID's DNA and comparison with SARS, MERS, EBOLA, ZIKA and HIV   "
   ]
  },
  {
   "cell_type": "markdown",
   "metadata": {},
   "source": [
    "#### Importing necessary modules \n",
    "Bio modules are for DNA, mRNA, protein analysis andd also for parsing 3D virus structures. Whereas nglview is for visualization purpose.  "
   ]
  },
  {
   "cell_type": "code",
   "execution_count": 1,
   "metadata": {
    "scrolled": true
   },
   "outputs": [
    {
     "data": {
      "application/vnd.jupyter.widget-view+json": {
       "model_id": "d416917656874aff953030285c0ba691",
       "version_major": 2,
       "version_minor": 0
      },
      "text/plain": []
     },
     "metadata": {},
     "output_type": "display_data"
    }
   ],
   "source": [
    "from Bio.Seq import Seq \n",
    "from Bio.SeqUtils import GC, seq3\n",
    "from Bio.SeqUtils.ProtParam import ProteinAnalysis\n",
    "from Bio import pairwise2\n",
    "from Bio.pairwise2 import format_alignment\n",
    "from Bio import SeqIO\n",
    "from collections import Counter\n",
    "import matplotlib.pyplot as plt\n",
    "from Bio.PDB import PDBParser\n",
    "import nglview as nv\n",
    "import numpy as np\n",
    "import pandas as pd\n",
    "import warnings\n",
    "warnings.filterwarnings(\"ignore\")"
   ]
  },
  {
   "cell_type": "markdown",
   "metadata": {},
   "source": [
    "### Sequence Analysis\n",
    "+ Compare their DNA sequence and Protein (Amino Acid) sequence\n",
    "- GC Content\n",
    "- Freq of Each Amino Acids\n",
    "+ Find similarity between them\n",
    "    - Alignment\n",
    "    - hamming distance\n",
    "\n",
    "+ 3D structure of each"
   ]
  },
  {
   "cell_type": "markdown",
   "metadata": {},
   "source": [
    "### DNA sequence for viruses COVID, MERS, SARS, EBOLA, ZIKA and HIV "
   ]
  },
  {
   "cell_type": "markdown",
   "metadata": {},
   "source": [
    "### Data Source\n",
    "\n",
    "Importing necessary data of the mentioned viruses from the ncbi website given below:\n",
    "\n",
    "#### FASTA files\n",
    "+ COVID - https://www.ncbi.nlm.nih.gov/labs/virus/vssi/#/virus?SeqType_s=Nucleotide&VirusLineage_ss=Severe%20acute%20respiratory%20syndrome%20coronavirus%202%20(SARS-CoV-2),%20taxid:2697049 \n",
    "\n",
    "+ MERS - https://www.ncbi.nlm.nih.gov/labs/virus/vssi/#/virus?SeqType_s=Nucleotide&VirusLineage_ss=Middle%20East%20respiratory%20syndrome-related%20coronavirus%20(MERS-CoV),%20taxid:1335626\n",
    "\n",
    "+ SARS - https://www.ncbi.nlm.nih.gov/labs/virus/vssi/#/virusSeqType_s=Nucleotide&VirusLineage_ss=SARS%20coronavirus%20Urbani,%20taxid:228330\n",
    "\n",
    "+ EBOLA - https://www.ncbi.nlm.nih.gov/labs/virus/vssi/#/virus?SeqType_s=Nucleotide&VirusLineage_ss=Ebolavirus,%20taxid:186536\n",
    "\n",
    "+ ZIKA - https://www.ncbi.nlm.nih.gov/labs/virus/vssi/#/virus?SeqType_s=Nucleotide&VirusLineage_ss=Zika%20virus,%20taxid:64320\n",
    "\n",
    "+ HIV - https://www.ncbi.nlm.nih.gov/labs/virus/vssi/#/virus?SeqType_s=Nucleotide&VirusLineage_ss=Human%20immunodeficiency%20virus%201%20(HIV-1),%20taxid:11676\n",
    "\n",
    "#### PDB Files (For 3D structure analysis)\n",
    "+ COVID (PDB ID: 6LU7) - https://www.ncbi.nlm.nih.gov/Structure/mmdb/mmdbsrv.cgi  \n",
    "+ MERS (PDB ID: 6WAR) - https://www.ncbi.nlm.nih.gov/Structure/mmdb/mmdbsrv.cgi\n",
    "+ SARS (PDB ID: 6VXX) - https://www.ncbi.nlm.nih.gov/Structure/mmdb/mmdbsrv.cgi\n",
    "+ EBOLA (PDB ID: 6NAE) - https://www.ncbi.nlm.nih.gov/Structure/mmdb/mmdbsrv.cgi\n",
    "+ ZIKA (PDB ID: 6CO8) - https://www.ncbi.nlm.nih.gov/Structure/mmdb/mmdbsrv.cgi\n",
    "+ HIV (PDB ID: 1DMP) - https://www.ncbi.nlm.nih.gov/Structure/mmdb/mmdbsrv.cgi"
   ]
  },
  {
   "cell_type": "code",
   "execution_count": 2,
   "metadata": {
    "scrolled": true
   },
   "outputs": [],
   "source": [
    "COVID = SeqIO.read(r\"Data\\covid19_sequences.fasta\",\"fasta\")\n",
    "MERS = SeqIO.read(r\"Data\\mers_sequences.fasta\",\"fasta\")\n",
    "SARS = SeqIO.read(r\"Data\\sars_sequences.fasta\",\"fasta\")\n",
    "EBOLA = SeqIO.read(r\"Data\\ebola_sequences.fasta\",\"fasta\")\n",
    "ZIKA = SeqIO.read(r\"Data\\zika_sequences.fasta\",\"fasta\")\n",
    "HIV = SeqIO.read(r\"Data\\hiv_sequences.fasta\",\"fasta\")"
   ]
  },
  {
   "cell_type": "markdown",
   "metadata": {},
   "source": [
    "+ After reading the .fasta file using SeqIO reader, it contains all type of data along with the genomic sequence. For  analysis purpose we are mostly interested in the genomic sequence of the virus's DNA. To ensure this, .seq method is used to access only the genomic data and copy that data to a variable.   \n",
    "+ First 10 characters of the DNA sequence are printed for visualization of data. It can be seen that the data contains nucleotides A,T,C,G thus ensuring that the sequence is a DNA sequence and not a RNA sequence. In RNA sequence nucleotides T is absent and is replaced by U.\n",
    "+ In DNA the nucleotide are:\n",
    "    - A : adenine\n",
    "    - C : cytosine\n",
    "    - G : guanine\n",
    "    - T : thymine\n",
    "+ Here, A and T forms a pair by double bond whereas C and G forms a pair having a triple bond.  \n",
    "\n",
    "<img src=\"600px-AT-GC.jpg\">"
   ]
  },
  {
   "cell_type": "code",
   "execution_count": 3,
   "metadata": {
    "scrolled": true
   },
   "outputs": [
    {
     "name": "stdout",
     "output_type": "stream",
     "text": [
      "First 10 nucleotides in DNA sequence of COVID DNA are :  ATTAAAGGTT\n",
      "First 10 nucleotides in DNA sequence of MERS DNA are :  ATTTAAGTGA\n",
      "First 10 nucleotides in DNA sequence of SARS DNA are :  ATATTAGGTT\n",
      "First 10 nucleotides in DNA sequence of EBOLA DNA are :  CGGACACACA\n",
      "First 10 nucleotides in DNA sequence of ZIKA DNA are :  AGTTGTTGAT\n",
      "First 10 nucleotides in DNA sequence of HIV DNA are :  GGTCTCTCTG\n"
     ]
    }
   ],
   "source": [
    "COVID_sequence = COVID.seq\n",
    "MERS_sequence = MERS.seq\n",
    "SARS_sequence = SARS.seq\n",
    "EBOLA_sequence = EBOLA.seq\n",
    "ZIKA_sequence = ZIKA.seq \n",
    "HIV_sequence = HIV.seq \n",
    "\n",
    "print(\"First 10 nucleotides in DNA sequence of COVID DNA are : \",COVID_sequence[:10])\n",
    "print(\"First 10 nucleotides in DNA sequence of MERS DNA are : \",MERS_sequence[:10])\n",
    "print(\"First 10 nucleotides in DNA sequence of SARS DNA are : \",SARS_sequence[:10])\n",
    "print(\"First 10 nucleotides in DNA sequence of EBOLA DNA are : \",EBOLA_sequence[:10])\n",
    "print(\"First 10 nucleotides in DNA sequence of ZIKA DNA are : \",ZIKA_sequence[:10])\n",
    "print(\"First 10 nucleotides in DNA sequence of HIV DNA are : \",HIV_sequence[:10])"
   ]
  },
  {
   "cell_type": "markdown",
   "metadata": {},
   "source": [
    "### Length of the sequence and it's GC content\n",
    "+ GC content of a DNA is an important criteria for accessing the stability of the DNA. Higher the GC pairs, more stable is the DNA. Also, a higher GC-content level indicates a relatively higher melting temperature. Thus, Under pressure, such as when exposed to heat, the GC-rich sequences can take far more abuse than GC-low sequences.\n",
    "\n",
    "GC-content is usually expressed as a percentage value, but sometimes as a ratio (called G+C ratio or GC-ratio). GC-content percentage is calculated as: \n",
    "\n",
    "<img src=\"GC_ratio.png\">\n",
    "\n",
    "whereas the AT/GC ratio is calculated as,\n",
    "\n",
    "<img src=\"AT_GC_ratio.png\">\n"
   ]
  },
  {
   "cell_type": "code",
   "execution_count": 4,
   "metadata": {
    "scrolled": true
   },
   "outputs": [
    {
     "name": "stdout",
     "output_type": "stream",
     "text": [
      "Length of COVID sequence is :  29903\n",
      "Length of MERS sequence is :  30111\n",
      "Length of SARS sequence is :  29730\n",
      "Length of EBOLA sequence is :  19043\n",
      "Length of ZIKA sequence is :  10808\n",
      "Length of HIV sequence is :  9181\n"
     ]
    }
   ],
   "source": [
    "print(\"Length of COVID sequence is : \",len(COVID_sequence))\n",
    "print(\"Length of MERS sequence is : \",len(MERS_sequence))\n",
    "print(\"Length of SARS sequence is : \",len(SARS_sequence))\n",
    "print(\"Length of EBOLA sequence is : \",len(EBOLA_sequence))\n",
    "print(\"Length of ZIKA sequence is : \",len(ZIKA_sequence))\n",
    "print(\"Length of HIV sequence is : \",len(HIV_sequence))"
   ]
  },
  {
   "cell_type": "code",
   "execution_count": 5,
   "metadata": {
    "scrolled": true
   },
   "outputs": [
    {
     "name": "stdout",
     "output_type": "stream",
     "text": [
      "Number of GC pair in COVID sequence is :  37.97277865097148\n",
      "Number of GC pair in SARS sequence is :  40.840901446350486\n",
      "Number of GC pair in MERS sequence is :  41.17764272192886\n",
      "Number of GC pair in EBOLA sequence is :  45.48127921020848\n",
      "Number of GC pair in ZIKA sequence is :  51.258327165062916\n",
      "Number of GC pair in HIV sequence is :  42.119594815379585\n"
     ]
    }
   ],
   "source": [
    "print(\"Number of GC pair in COVID sequence is : \",GC(COVID_sequence))\n",
    "print(\"Number of GC pair in SARS sequence is : \",GC(SARS_sequence))\n",
    "print(\"Number of GC pair in MERS sequence is : \",GC(MERS_sequence))\n",
    "print(\"Number of GC pair in EBOLA sequence is : \",GC(EBOLA_sequence))\n",
    "print(\"Number of GC pair in ZIKA sequence is : \",GC(ZIKA_sequence))\n",
    "print(\"Number of GC pair in HIV sequence is : \",GC(HIV_sequence))"
   ]
  },
  {
   "cell_type": "markdown",
   "metadata": {},
   "source": [
    "### Conversion of DNA to Proteins/ Ammino Acids(AA) \n",
    "\n",
    "<img src=\"DNA2proteins.jpg\">\n",
    "\n",
    "+ The process of going from DNA to a complete protein is called protein biosynthesis and it is composed of two different stages. \n",
    "+ The first stage is called transcription. This is where a strand of double helix DNA (a gene) is unwound so that one side can be read by an enzyme called RNA polymerase.\n",
    "+ The second part of the process is called translation.  This is where the mRNA leaves the DNA in the nucleus and travels to a part of the cell called a ribosome.  This is where the actual protein is built from individual amino acids.  The nucleotides in the mRNA are read as groups of three called codons.  Each codon corresponds to a particular amino acid.\n",
    "\n",
    "Proteins analysis forms an important part of sequence analysis. A good way to study the function of protein is to remove the proteins and observe its effects in the cell. For this it is necessary to convert the DNA sequence to protein sequence. After obtaining the protein sequence, analysis can be done based on the proteins and it's frequency. The frequency of a certain protein affects the behavioural pattern and the characterstics of the virus. Furthermore, virusus of same category have close resemblance in the frequency of the contained protein. Though, its not necessary.\n",
    "\n",
    "The below cells converts the DNA sequence to mRNA and then to AA using first transcription and then translation as explained above."
   ]
  },
  {
   "cell_type": "code",
   "execution_count": 6,
   "metadata": {},
   "outputs": [
    {
     "name": "stdout",
     "output_type": "stream",
     "text": [
      "Number of necleutides in mRNA sequence of COVID is :  29903\n",
      "Number of necleutides in mRNA sequence of SARS is :  29730\n",
      "Number of necleutides in mRNA sequence of MERS is :  30111\n",
      "Number of necleutides in mRNA sequence of EBOLA is :  19043\n",
      "Number of necleutides in mRNA sequence of ZIKA is :  10808\n",
      "Number of necleutides in mRNA sequence of HIV is :  9181\n"
     ]
    }
   ],
   "source": [
    "COVID_mRNA = COVID_sequence.transcribe()\n",
    "SARS_mRNA = SARS_sequence.transcribe()\n",
    "MERS_mRNA = MERS_sequence.transcribe()\n",
    "EBOLA_mRNA = EBOLA_sequence.transcribe()\n",
    "ZIKA_mRNA = ZIKA_sequence.transcribe()\n",
    "HIV_mRNA = HIV_sequence.transcribe()\n",
    "\n",
    "print(\"Number of necleutides in mRNA sequence of COVID is : \",len(COVID_mRNA))\n",
    "print(\"Number of necleutides in mRNA sequence of SARS is : \",len(SARS_mRNA))\n",
    "print(\"Number of necleutides in mRNA sequence of MERS is : \",len(MERS_mRNA))\n",
    "print(\"Number of necleutides in mRNA sequence of EBOLA is : \",len(EBOLA_mRNA))\n",
    "print(\"Number of necleutides in mRNA sequence of ZIKA is : \",len(ZIKA_mRNA))\n",
    "print(\"Number of necleutides in mRNA sequence of HIV is : \",len(HIV_mRNA))"
   ]
  },
  {
   "cell_type": "markdown",
   "metadata": {},
   "source": [
    "As it can be seen that each condon contains 3 nucleotides number of proteins are approximately equal to number of nucleotides divide by 3. As in case of COVID, Number of nucleotides are 29903, thus number of protein sequence should be 29903/3 = 9967. Which can be verified as below. Similarly, same rule applies for other virusus."
   ]
  },
  {
   "cell_type": "code",
   "execution_count": 7,
   "metadata": {
    "scrolled": true
   },
   "outputs": [
    {
     "name": "stdout",
     "output_type": "stream",
     "text": [
      "Number of proteins in COVID are :  9967\n",
      "Number of proteins in SARS are :  9910\n",
      "Number of proteins in MERS are :  10037\n",
      "Number of proteins in EBOLA are :  6347\n",
      "Number of proteins in ZIKA are :  3602\n",
      "Number of proteins in HIV are :  3060\n"
     ]
    }
   ],
   "source": [
    "COVID_proteins = COVID_mRNA.translate()\n",
    "SARS_proteins = SARS_mRNA.translate()\n",
    "MERS_proteins = MERS_mRNA.translate()\n",
    "EBOLA_proteins = EBOLA_mRNA.translate()\n",
    "ZIKA_proteins = ZIKA_mRNA.translate()\n",
    "HIV_proteins = HIV_mRNA.translate()\n",
    "\n",
    "print(\"Number of proteins in COVID are : \",len(COVID_proteins))\n",
    "print(\"Number of proteins in SARS are : \",len(SARS_proteins))\n",
    "print(\"Number of proteins in MERS are : \",len(MERS_proteins))\n",
    "print(\"Number of proteins in EBOLA are : \",len(EBOLA_proteins))\n",
    "print(\"Number of proteins in ZIKA are : \",len(ZIKA_proteins))\n",
    "print(\"Number of proteins in HIV are : \",len(HIV_proteins))"
   ]
  },
  {
   "cell_type": "markdown",
   "metadata": {},
   "source": [
    "Below cell shows, example of DNA, mRNA and protein chain in COVID virus(First 10 characters).\n",
    "\n",
    "There are 20 types of proteins denoted by symbols,\n",
    "+ alanine - ala - A \n",
    "+ arginine - arg - R \n",
    "+ asparagine - asn - N \n",
    "+ aspartic acid - asp - D \n",
    "+ cysteine - cys - C \n",
    "+ glutamine - gln - Q \n",
    "+ glutamic acid - glu - E \n",
    "+ glycine - gly - G \n",
    "+ histidine - his - H \n",
    "+ isoleucine - ile - I \n",
    "+ leucine - leu - L \n",
    "+ lysine - lys - K \n",
    "+ methionine - met - M \n",
    "+ phenylalanine - phe - F \n",
    "+ proline - pro - P \n",
    "+ serine - ser - S \n",
    "+ threonine - thr - T \n",
    "+ tryptophan - trp - W \n",
    "+ tyrosine - tyr - Y \n",
    "+ valine - val - V "
   ]
  },
  {
   "cell_type": "code",
   "execution_count": 8,
   "metadata": {},
   "outputs": [
    {
     "name": "stdout",
     "output_type": "stream",
     "text": [
      "DNA sequence for COVID is :  ATTAAAGGTT\n",
      "mRNA sequence for COVID is :  AUUAAAGGUU\n",
      "Protein/AA sequence for COVID is :  IKGLYLPR*Q\n"
     ]
    }
   ],
   "source": [
    "print(\"DNA sequence for COVID is : \",COVID_sequence[:10])\n",
    "print(\"mRNA sequence for COVID is : \",COVID_mRNA[:10])\n",
    "print(\"Protein/AA sequence for COVID is : \",COVID_proteins[:10])"
   ]
  },
  {
   "cell_type": "markdown",
   "metadata": {},
   "source": [
    "### Protein Analysis "
   ]
  },
  {
   "cell_type": "markdown",
   "metadata": {},
   "source": [
    "In protein sequence, * represents a stop condon. All the sequences before the stop condon are given below using pandas.   "
   ]
  },
  {
   "cell_type": "code",
   "execution_count": 9,
   "metadata": {},
   "outputs": [
    {
     "data": {
      "text/html": [
       "<div>\n",
       "<style scoped>\n",
       "    .dataframe tbody tr th:only-of-type {\n",
       "        vertical-align: middle;\n",
       "    }\n",
       "\n",
       "    .dataframe tbody tr th {\n",
       "        vertical-align: top;\n",
       "    }\n",
       "\n",
       "    .dataframe thead th {\n",
       "        text-align: right;\n",
       "    }\n",
       "</style>\n",
       "<table border=\"1\" class=\"dataframe\">\n",
       "  <thead>\n",
       "    <tr style=\"text-align: right;\">\n",
       "      <th></th>\n",
       "      <th>Ammino Acids</th>\n",
       "      <th>count</th>\n",
       "    </tr>\n",
       "  </thead>\n",
       "  <tbody>\n",
       "    <tr>\n",
       "      <th>548</th>\n",
       "      <td>CTIVFKRVCGVSAARLTPCGTGTSTDVVYRAFDIYNDKVAGFAKFL...</td>\n",
       "      <td>2701</td>\n",
       "    </tr>\n",
       "    <tr>\n",
       "      <th>694</th>\n",
       "      <td>ASAQRSQITLHINELMDLFMRIFTIGTVTLKQGEIKDATPSDFVRA...</td>\n",
       "      <td>290</td>\n",
       "    </tr>\n",
       "    <tr>\n",
       "      <th>719</th>\n",
       "      <td>TNMKIILFLALITLATCELYHYQECVRGTTVLLKEPCSSGTYEGNS...</td>\n",
       "      <td>123</td>\n",
       "    </tr>\n",
       "    <tr>\n",
       "      <th>695</th>\n",
       "      <td>AQADEYELMYSFVSEETGTLIVNSVLLFLAFVVFLLVTLAILTALR...</td>\n",
       "      <td>83</td>\n",
       "    </tr>\n",
       "    <tr>\n",
       "      <th>718</th>\n",
       "      <td>QQMFHLVDFQVTIAEILLIIMRTFKVSIWNLDYIINLIIKNLSKSL...</td>\n",
       "      <td>63</td>\n",
       "    </tr>\n",
       "  </tbody>\n",
       "</table>\n",
       "</div>"
      ],
      "text/plain": [
       "                                          Ammino Acids  count\n",
       "548  CTIVFKRVCGVSAARLTPCGTGTSTDVVYRAFDIYNDKVAGFAKFL...   2701\n",
       "694  ASAQRSQITLHINELMDLFMRIFTIGTVTLKQGEIKDATPSDFVRA...    290\n",
       "719  TNMKIILFLALITLATCELYHYQECVRGTTVLLKEPCSSGTYEGNS...    123\n",
       "695  AQADEYELMYSFVSEETGTLIVNSVLLFLAFVVFLLVTLAILTALR...     83\n",
       "718  QQMFHLVDFQVTIAEILLIIMRTFKVSIWNLDYIINLIIKNLSKSL...     63"
      ]
     },
     "execution_count": 9,
     "metadata": {},
     "output_type": "execute_result"
    }
   ],
   "source": [
    "COVID_sequenceBeforeStopCondon = COVID_proteins.split('*')\n",
    "COVID_sequenceBeforeStopCondon = [str(i) for i in COVID_sequenceBeforeStopCondon]\n",
    "Data_frame = pd.DataFrame({'Ammino Acids':COVID_sequenceBeforeStopCondon})\n",
    "Data_frame['count'] = Data_frame['Ammino Acids'].str.len()\n",
    "\n",
    "Data_frame.nlargest(5,'count')"
   ]
  },
  {
   "cell_type": "code",
   "execution_count": 10,
   "metadata": {},
   "outputs": [
    {
     "data": {
      "text/html": [
       "<div>\n",
       "<style scoped>\n",
       "    .dataframe tbody tr th:only-of-type {\n",
       "        vertical-align: middle;\n",
       "    }\n",
       "\n",
       "    .dataframe tbody tr th {\n",
       "        vertical-align: top;\n",
       "    }\n",
       "\n",
       "    .dataframe thead th {\n",
       "        text-align: right;\n",
       "    }\n",
       "</style>\n",
       "<table border=\"1\" class=\"dataframe\">\n",
       "  <thead>\n",
       "    <tr style=\"text-align: right;\">\n",
       "      <th></th>\n",
       "      <th>Ammino Acids</th>\n",
       "      <th>count</th>\n",
       "    </tr>\n",
       "  </thead>\n",
       "  <tbody>\n",
       "    <tr>\n",
       "      <th>0</th>\n",
       "      <td>IKGLYLPR</td>\n",
       "      <td>8</td>\n",
       "    </tr>\n",
       "    <tr>\n",
       "      <th>1</th>\n",
       "      <td>QTNQLSISCRSVL</td>\n",
       "      <td>13</td>\n",
       "    </tr>\n",
       "    <tr>\n",
       "      <th>2</th>\n",
       "      <td>TNFKICVAVTRLHA</td>\n",
       "      <td>14</td>\n",
       "    </tr>\n",
       "    <tr>\n",
       "      <th>3</th>\n",
       "      <td>CTHAV</td>\n",
       "      <td>5</td>\n",
       "    </tr>\n",
       "    <tr>\n",
       "      <th>4</th>\n",
       "      <td>LITNYCR</td>\n",
       "      <td>7</td>\n",
       "    </tr>\n",
       "    <tr>\n",
       "      <th>...</th>\n",
       "      <td>...</td>\n",
       "      <td>...</td>\n",
       "    </tr>\n",
       "    <tr>\n",
       "      <th>770</th>\n",
       "      <td>SHIAIFNQCVTLGRT</td>\n",
       "      <td>15</td>\n",
       "    </tr>\n",
       "    <tr>\n",
       "      <th>771</th>\n",
       "      <td>KSHHIFTEATRSTIECTVNNARESCLYGRALMCKINFSSAIPM</td>\n",
       "      <td>43</td>\n",
       "    </tr>\n",
       "    <tr>\n",
       "      <th>772</th>\n",
       "      <td>F</td>\n",
       "      <td>1</td>\n",
       "    </tr>\n",
       "    <tr>\n",
       "      <th>773</th>\n",
       "      <td></td>\n",
       "      <td>0</td>\n",
       "    </tr>\n",
       "    <tr>\n",
       "      <th>774</th>\n",
       "      <td>LLRRMTKKKKKKKKKK</td>\n",
       "      <td>16</td>\n",
       "    </tr>\n",
       "  </tbody>\n",
       "</table>\n",
       "<p>775 rows × 2 columns</p>\n",
       "</div>"
      ],
      "text/plain": [
       "                                    Ammino Acids  count\n",
       "0                                       IKGLYLPR      8\n",
       "1                                  QTNQLSISCRSVL     13\n",
       "2                                 TNFKICVAVTRLHA     14\n",
       "3                                          CTHAV      5\n",
       "4                                        LITNYCR      7\n",
       "..                                           ...    ...\n",
       "770                              SHIAIFNQCVTLGRT     15\n",
       "771  KSHHIFTEATRSTIECTVNNARESCLYGRALMCKINFSSAIPM     43\n",
       "772                                            F      1\n",
       "773                                                   0\n",
       "774                             LLRRMTKKKKKKKKKK     16\n",
       "\n",
       "[775 rows x 2 columns]"
      ]
     },
     "execution_count": 10,
     "metadata": {},
     "output_type": "execute_result"
    }
   ],
   "source": [
    "Data_frame"
   ]
  },
  {
   "cell_type": "markdown",
   "metadata": {
    "scrolled": true
   },
   "source": [
    "In the below cells, the frequncy of proteins in the sequence are calculated for each virus and then plotted on the line graph for visualization purpose.  "
   ]
  },
  {
   "cell_type": "code",
   "execution_count": 11,
   "metadata": {
    "scrolled": true
   },
   "outputs": [],
   "source": [
    "COVID_ProteinAnalysis = ProteinAnalysis(str(COVID_proteins))\n",
    "MERS_ProteinAnalysis = ProteinAnalysis(str(MERS_proteins))\n",
    "SARS_ProteinAnalysis = ProteinAnalysis(str(SARS_proteins))\n",
    "EBOLA_ProteinAnalysis = ProteinAnalysis(str(EBOLA_proteins))\n",
    "ZIKA_ProteinAnalysis = ProteinAnalysis(str(ZIKA_proteins))\n",
    "HIV_ProteinAnalysis = ProteinAnalysis(str(HIV_proteins))"
   ]
  },
  {
   "cell_type": "code",
   "execution_count": 12,
   "metadata": {
    "scrolled": true
   },
   "outputs": [
    {
     "name": "stdout",
     "output_type": "stream",
     "text": [
      "{'A': 375, 'C': 635, 'D': 290, 'E': 270, 'F': 593, 'G': 394, 'H': 332, 'I': 436, 'K': 413, 'L': 886, 'M': 117, 'N': 472, 'P': 292, 'Q': 325, 'R': 558, 'S': 810, 'T': 679, 'V': 548, 'W': 263, 'Y': 505}\n"
     ]
    }
   ],
   "source": [
    "# Frequrency of Ammino Acids \n",
    "\n",
    "COVID_PROTEINS = COVID_ProteinAnalysis.count_amino_acids()\n",
    "MERS_PROTEINS = MERS_ProteinAnalysis.count_amino_acids()\n",
    "SARS_PROTEINS = SARS_ProteinAnalysis.count_amino_acids()\n",
    "EBOLA_PROTEINS = EBOLA_ProteinAnalysis.count_amino_acids()\n",
    "ZIKA_PROTEINS = ZIKA_ProteinAnalysis.count_amino_acids()\n",
    "HIV_PROTEINS = HIV_ProteinAnalysis.count_amino_acids()\n",
    "\n",
    "print(COVID_PROTEINS)"
   ]
  },
  {
   "cell_type": "code",
   "execution_count": 13,
   "metadata": {
    "scrolled": false
   },
   "outputs": [
    {
     "data": {
      "image/png": "[encoded data removed]",
      "text/plain": [
       "<Figure size 1080x504 with 6 Axes>"
      ]
     },
     "metadata": {
      "needs_background": "light"
     },
     "output_type": "display_data"
    }
   ],
   "source": [
    "Lables=['A','C','D','E','F','G','H','I','K','L','M','N','P','Q','R','S','T','V','W','Y']\n",
    "COVID_PROTEINS_values = list(COVID_PROTEINS.values())\n",
    "MERS_PROTEINS_values = list(MERS_PROTEINS.values())\n",
    "SARS_PROTEINS_values = list(SARS_PROTEINS.values())\n",
    "EBOLA_PROTEINS_values = list(EBOLA_PROTEINS.values())\n",
    "ZIKA_PROTEINS_values = list(ZIKA_PROTEINS.values())\n",
    "HIV_PROTEINS_values = list(HIV_PROTEINS.values())\n",
    "\n",
    "fig=plt.figure(figsize=(15,7))\n",
    "fig.suptitle('Comparison of frequency of various ammino acids in virus sequence')\n",
    "\n",
    "ax1=fig.add_subplot(231)\n",
    "ax1.set_title('COVID')\n",
    "plt.xlabel(\"Proteins\")\n",
    "plt.ylabel(\"Frequency\")\n",
    "ax1.plot(Lables,COVID_PROTEINS_values,color='violet')\n",
    "\n",
    "\n",
    "ax2=fig.add_subplot(232)\n",
    "ax2.set_title('MERS')\n",
    "plt.xlabel(\"Proteins\")\n",
    "plt.ylabel(\"Frequency\")\n",
    "ax2.plot(Lables,MERS_PROTEINS_values,color='indigo')\n",
    "\n",
    "ax3=fig.add_subplot(233)\n",
    "ax3.set_title('SARS')\n",
    "plt.xlabel(\"Proteins\")\n",
    "plt.ylabel(\"Frequency\")\n",
    "ax3.plot(Lables,SARS_PROTEINS_values,color='blue')\n",
    "\n",
    "ax4=fig.add_subplot(234)\n",
    "ax4.set_title('EBOLA')\n",
    "plt.xlabel(\"Proteins\")\n",
    "plt.ylabel(\"Frequency\")\n",
    "ax4.plot(Lables,EBOLA_PROTEINS_values,color='green')\n",
    "\n",
    "ax5=fig.add_subplot(235)\n",
    "ax5.set_title('ZIKA')\n",
    "plt.xlabel(\"Proteins\")\n",
    "plt.ylabel(\"Frequency\")\n",
    "ax5.plot(Lables,ZIKA_PROTEINS_values,color='orange')\n",
    "\n",
    "ax6=fig.add_subplot(236)\n",
    "ax6.set_title('HIV')\n",
    "plt.xlabel(\"Proteins\")\n",
    "plt.ylabel(\"Frequency\")\n",
    "ax6.plot(Lables,HIV_PROTEINS_values,color='red')\n",
    "\n",
    "plt.tight_layout(pad=1, w_pad=0.5, h_pad=2.0)"
   ]
  },
  {
   "cell_type": "markdown",
   "metadata": {},
   "source": [
    "### Calculating the similarity Index of COVID with other viruses  \n",
    "\n",
    "+ Similarity index between two sequences is calculated as : fraction of nucleotides that is the same/ total number of nucleotides * 100%\n",
    "+ Hamming distance between two strings of equal length is the number of positions at which the corresponding symbols are different. \n",
    "+ In other words, it measures the minimum number of substitutions required to change one string into the other, or the minimum number of errors that could have transformed one string into the othe\n",
    "+ It is used for error detection or error correction\n",
    "+ It is used to quantify the similarity of DNA sequences,\n",
    "+ For checking the edit distance\n",
    " - edit distance is a way of quantifying how dissimilar two strings (e.g., words) are to one another by counting the minimum number of operations required to transform one string into the other. \n",
    " - eg Levenshtein distance\n",
    " \n",
    "From the below cell it can be seen that the similarity index of COVID with SARS is more than that of EBOLA, ZIKA or HIV. This shows that the COVID and SARS belong to the same family. Thus have greater similar nucleotides that the other virusus. "
   ]
  },
  {
   "cell_type": "code",
   "execution_count": 14,
   "metadata": {
    "scrolled": true
   },
   "outputs": [
    {
     "name": "stdout",
     "output_type": "stream",
     "text": [
      "Similarity index of COVID with MERS virus is :  69.4065291753844\n",
      "Similarity index of COVID with SARS virus is :  82.83784235695416\n",
      "Similarity index of COVID with EBOLA virus is :  50.443099354579815\n",
      "Similarity index of COVID with ZIKA virus is :  34.07684847674146\n",
      "Similarity index of COVID with HIV virus is :  30.140788549643847\n"
     ]
    }
   ],
   "source": [
    "COVID_n_MERS = pairwise2.align.globalxx(COVID_sequence,MERS_sequence, one_alignment_only=True, score_only=True) \n",
    "Similarity_with_MERS = COVID_n_MERS/max(len(COVID_sequence),len(MERS_sequence)) * 100\n",
    "\n",
    "COVID_n_SARS = pairwise2.align.globalxx(COVID_sequence,SARS_sequence, one_alignment_only=True, score_only=True)\n",
    "Similarity_with_SARS = COVID_n_SARS/max(len(COVID_sequence),len(SARS_sequence)) * 100\n",
    "\n",
    "COVID_n_EBOLA = pairwise2.align.globalxx(COVID_sequence,EBOLA_sequence, one_alignment_only=True, score_only=True)\n",
    "Similarity_with_EBOLA = COVID_n_EBOLA/max(len(COVID_sequence),len(EBOLA_sequence)) * 100\n",
    "\n",
    "COVID_n_ZIKA = pairwise2.align.globalxx(COVID_sequence,ZIKA_sequence, one_alignment_only=True, score_only=True)\n",
    "Similarity_with_ZIKA = COVID_n_ZIKA/max(len(COVID_sequence),len(ZIKA_sequence)) * 100\n",
    "\n",
    "COVID_n_HIV = pairwise2.align.globalxx(COVID_sequence,HIV_sequence, one_alignment_only=True, score_only=True)\n",
    "Similarity_with_HIV = COVID_n_HIV/max(len(COVID_sequence),len(HIV_sequence)) * 100\n",
    "\n",
    "print(\"Similarity index of COVID with MERS virus is : \",Similarity_with_MERS)\n",
    "print(\"Similarity index of COVID with SARS virus is : \",Similarity_with_SARS)\n",
    "print(\"Similarity index of COVID with EBOLA virus is : \",Similarity_with_EBOLA)\n",
    "print(\"Similarity index of COVID with ZIKA virus is : \",Similarity_with_ZIKA)\n",
    "print(\"Similarity index of COVID with HIV virus is : \",Similarity_with_HIV)"
   ]
  },
  {
   "cell_type": "markdown",
   "metadata": {},
   "source": [
    "### 3D structures of the given viruses \n",
    "\n",
    "+ Below cell reads the PDB file using the PDB reader. The files can be found on the links given above. nglview is used to display the 3D structure. Based on this structure lot of information based orientation and connectivity of various elements can be found out. It is crutial information for studying protein folding, evolution, function prediction etc. "
   ]
  },
  {
   "cell_type": "code",
   "execution_count": 15,
   "metadata": {},
   "outputs": [],
   "source": [
    "COVID_structure = PDBParser().get_structure(\"COVID_6lu7\",\"Data\\COVID_6lu7.pdb\") \n",
    "MERS_structure = PDBParser().get_structure(\"MERS_6lu7\",\"Data\\MERS_6war.pdb\")\n",
    "SARS_structure = PDBParser().get_structure(\"SARS_6lu7\",\"Data\\SARS_6vxx.pdb\")\n",
    "EBOLA_structure = PDBParser().get_structure(\"EBOLA_6lu7\",\"Data\\EBOLA_6nae.pdb\")\n",
    "ZIKA_structure = PDBParser().get_structure(\"ZIKA_6lu7\",\"Data\\ZIKA_6co8.pdb\")\n",
    "HIV_structure = PDBParser().get_structure(\"HIV_6lu7\",\"Data\\HIV_1dmp.pdb\")"
   ]
  },
  {
   "cell_type": "code",
   "execution_count": 16,
   "metadata": {},
   "outputs": [],
   "source": [
    "COVID3D = nv.show_biopython(COVID_structure)\n",
    "MERS3D = nv.show_biopython(MERS_structure)                                             \n",
    "SARS3D = nv.show_biopython(SARS_structure)\n",
    "EBOLA3D = nv.show_biopython(EBOLA_structure)\n",
    "ZIKA3D = nv.show_biopython(ZIKA_structure)\n",
    "HIV3D = nv.show_biopython(HIV_structure)"
   ]
  },
  {
   "cell_type": "code",
   "execution_count": 17,
   "metadata": {},
   "outputs": [
    {
     "data": {
      "application/vnd.jupyter.widget-view+json": {
       "model_id": "8eeefc878c754bc882b455c6a52ac60e",
       "version_major": 2,
       "version_minor": 0
      },
      "text/plain": [
       "NGLWidget()"
      ]
     },
     "metadata": {},
     "output_type": "display_data"
    }
   ],
   "source": [
    "COVID3D"
   ]
  },
  {
   "cell_type": "code",
   "execution_count": 18,
   "metadata": {},
   "outputs": [
    {
     "data": {
      "application/vnd.jupyter.widget-view+json": {
       "model_id": "e1a58f8bf2f54572ae43fe6f69070832",
       "version_major": 2,
       "version_minor": 0
      },
      "text/plain": [
       "NGLWidget()"
      ]
     },
     "metadata": {},
     "output_type": "display_data"
    }
   ],
   "source": [
    "MERS3D"
   ]
  },
  {
   "cell_type": "code",
   "execution_count": 19,
   "metadata": {},
   "outputs": [
    {
     "data": {
      "application/vnd.jupyter.widget-view+json": {
       "model_id": "35416962644b45669bcfde71a8dcfd0e",
       "version_major": 2,
       "version_minor": 0
      },
      "text/plain": [
       "NGLWidget()"
      ]
     },
     "metadata": {},
     "output_type": "display_data"
    }
   ],
   "source": [
    "SARS3D"
   ]
  },
  {
   "cell_type": "code",
   "execution_count": 20,
   "metadata": {},
   "outputs": [
    {
     "data": {
      "application/vnd.jupyter.widget-view+json": {
       "model_id": "83dba7a9d2d34f95a29d0fe355e2035f",
       "version_major": 2,
       "version_minor": 0
      },
      "text/plain": [
       "NGLWidget()"
      ]
     },
     "metadata": {},
     "output_type": "display_data"
    }
   ],
   "source": [
    "EBOLA3D"
   ]
  },
  {
   "cell_type": "code",
   "execution_count": 21,
   "metadata": {},
   "outputs": [
    {
     "data": {
      "application/vnd.jupyter.widget-view+json": {
       "model_id": "1c96603bb3414db0980354bd6999059c",
       "version_major": 2,
       "version_minor": 0
      },
      "text/plain": [
       "NGLWidget()"
      ]
     },
     "metadata": {},
     "output_type": "display_data"
    }
   ],
   "source": [
    "ZIKA3D"
   ]
  },
  {
   "cell_type": "code",
   "execution_count": 22,
   "metadata": {},
   "outputs": [
    {
     "data": {
      "application/vnd.jupyter.widget-view+json": {
       "model_id": "a9245945a9ef40cb83e9774b28bd9df6",
       "version_major": 2,
       "version_minor": 0
      },
      "text/plain": [
       "NGLWidget()"
      ]
     },
     "metadata": {},
     "output_type": "display_data"
    }
   ],
   "source": [
    "HIV3D"
   ]
  }
 ],
 "metadata": {
  "kernelspec": {
   "display_name": "Python 3",
   "language": "python",
   "name": "python3"
  },
  "language_info": {
   "codemirror_mode": {
    "name": "ipython",
    "version": 3
   },
   "file_extension": ".py",
   "mimetype": "text/x-python",
   "name": "python",
   "nbconvert_exporter": "python",
   "pygments_lexer": "ipython3",
   "version": "3.8.2"
  }
 },
 "nbformat": 4,
 "nbformat_minor": 4
}
